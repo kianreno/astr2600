{
 "metadata": {
  "anaconda-cloud": {},
  "kernelspec": {
   "display_name": "Python [Root]",
   "language": "python",
   "name": "Python [Root]"
  },
  "language_info": {
   "codemirror_mode": {
    "name": "ipython",
    "version": 3
   },
   "file_extension": ".py",
   "mimetype": "text/x-python",
   "name": "python",
   "nbconvert_exporter": "python",
   "pygments_lexer": "ipython3",
   "version": "3.5.2"
  },
  "name": "",
  "signature": "sha256:61bbafe16af17761c889fc26c66f6c34837ab00a977b0420d9d8dc0bf3d1320d"
 },
 "nbformat": 3,
 "nbformat_minor": 0,
 "worksheets": [
  {
   "cells": [
    {
     "cell_type": "code",
     "collapsed": false,
     "input": [
      "#start by initializing the constants\n",
      "rad_earth = 6.371e8 #cm\n",
      "mass_earth = 5.972e27 # g\n",
      "rad_moon = 1.738e8  #cm\n",
      "mass_moon = 7.35e25 # g\n",
      "rad_sun = 6.957e10  #cm\n",
      "mass_sun = 1.989e33 #g\n",
      "rad_kep = rad_earth*7.1 # cm\n",
      "mass_kep= mass_earth*2 #g\n",
      "G = 6.67e-8 #cm^3 g^-1 s^-2\n",
      "\n",
      "#initialize the variable\n",
      "mass_person = 70000 #g\n",
      "\n",
      "#calculate the forces\n",
      "force_sun = G * (mass_sun * mass_person)/(rad_sun**2)\n",
      "force_earth = G * (mass_earth * mass_person)/(rad_earth**2)\n",
      "force_moon = G * (mass_moon * mass_person)/(rad_moon**2)\n",
      "force_kep = G * (mass_kep * mass_person)/(rad_kep**2)\n",
      "print 'Sun force:  <{:.3g}> dynes\\nMoon force:  <{:.3g}> dynes\\nEarth force:  <{:.3g}> dynes\\nKepler 51b force:  <{:.3g}> dynes'.format(force_sun, force_earth, force_moon, force_kep)\n",
      "\n",
      "#create display statements\n",
      "print '\\nOBJECT\\tFORCE(dynes)'\n",
      "print 'Sun\\t{:.3g}'.format(force_sun)\n",
      "print 'Moon\\t{:.3g}'.format(force_moon)\n",
      "print 'Earth\\t{:.3g}'.format(force_earth)\n",
      "print 'Kepler\\t{:.3g}'.format(force_kep)\n",
      "\n",
      "#The Kepler force is smaller than I would have thought originally but now seeing that it is much bigger radius wise than mass wise \n",
      " #it makes sense that it is still the smallest force. \n",
      "\n",
      "    \n",
      "    \n",
      "#9223372036854775807 is equivalent to \n",
      "#an int being signed means it takes the first bit and uses it as a +/- sign and not as part of the number\n",
      "#subtracting 1 is the difference betweent he positive and negative values \n",
      "#standard python in uses 64 bits or 8 bytes\n",
      "print '\\n', 2**63 -1\n",
      "print 'x is 63'\n",
      "\n",
      "\n",
      "#using 8Gb of memory would require python to use 10e9 integers\n",
      "\n",
      "#it doesn't make sense that we can print a number bigger than that as an int\n",
      "max_int = 9223372036854775807\n",
      "new_max = max_int + 1\n",
      "print new_max\n",
      "\n",
      "\n",
      "# these are different because although the new_max exceeds the most an int can be, python has a different data type to hold bigger values \n",
      "# it is beneficial because it can seemlessly handle bigger numbers and python supports arithmatic between different datatypes\n",
      "# this can be dangerous because a long uses more bytes than an int and can exceed the memory faster\n",
      "print type(max_int), type(new_max)\n",
      "\n",
      "\n",
      "\n",
      "\n"
     ],
     "language": "python",
     "metadata": {},
     "outputs": [
      {
       "output_type": "stream",
       "stream": "stdout",
       "text": [
        "Sun force:  <1.92e+09> dynes\n",
        "Moon force:  <6.87e+07> dynes\n",
        "Earth force:  <1.14e+07> dynes\n",
        "Kepler 51b force:  <2.73e+06> dynes\n",
        "\n",
        "OBJECT\tFORCE(dynes)\n",
        "Sun\t1.92e+09\n",
        "Moon\t1.14e+07\n",
        "Earth\t6.87e+07\n",
        "Kepler\t2.73e+06\n",
        "\n",
        "9223372036854775807\n",
        "x is 63\n",
        "9223372036854775808\n",
        "<type 'int'> <type 'long'>\n"
       ]
      }
     ],
     "prompt_number": 48
    },
    {
     "cell_type": "markdown",
     "metadata": {},
     "source": [
      "Summarize:\n",
      "There were a couple things I learned doing this hw.  First I got much more familiar with displaying certain values of a number in python. For example displaying the forces in Scientific notation while only using 2 sig figs after the decimal. This was covered during the lectue but I had forgotten how to do that and needed a refresher.  Also I didn't know that python would turn a variable into a long if you overflowed the previous integer type without even a warning or anything.  \n",
      "\n",
      "Questions:\n",
      "I don't really have any questions at this point. Everything from lecture seems pretty straight forward. "
     ]
    },
    {
     "cell_type": "code",
     "collapsed": false,
     "input": [],
     "language": "python",
     "metadata": {},
     "outputs": []
    }
   ],
   "metadata": {}
  }
 ]
}